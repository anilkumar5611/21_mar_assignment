{
 "cells": [
  {
   "cell_type": "code",
   "execution_count": null,
   "id": "cfa6905d",
   "metadata": {},
   "outputs": [],
   "source": [
    "#Q1. What is the difference between Ordinal Encoding and Label Encoding? Provide an example of when you\n",
    "#might choose one over the other."
   ]
  },
  {
   "cell_type": "code",
   "execution_count": null,
   "id": "d6664ef6",
   "metadata": {},
   "outputs": [],
   "source": [
    "''''Ordinal Encoding and Label Encoding are both techniques used in data preprocessing, specifically when dealing with categorical variables, to convert them into numerical format so that machine learning algorithms can handle them more effectively. However, they are different in how they handle the categorical data.\n",
    "\n",
    "Label Encoding:\n",
    "Label Encoding is a method where each unique category is assigned a unique integer value. It is a simple and straightforward approach, and it does not introduce any ordering or hierarchy among the categories. The encoding is done in alphabetical or some arbitrary order, and the integers assigned have no numerical significance.\n",
    "Example of Label Encoding:\n",
    "Consider a categorical variable \"Fruit\" with three categories: \"Apple,\" \"Orange,\" and \"Banana.\" After label encoding, the data might look like this:\n",
    "\n",
    "\"Apple\" -> 0\n",
    "\"Orange\" -> 1\n",
    "\"Banana\" -> 2\n",
    "One important thing to note is that using label encoding with certain machine learning algorithms might unintentionally introduce an ordinal relationship where none exists, potentially leading to incorrect model interpretations.\n",
    "\n",
    "Ordinal Encoding:\n",
    "Ordinal Encoding, on the other hand, is used when the categorical data has an inherent order or rank among its categories. The categories are assigned integer values in a meaningful sequence to represent their ordinal relationship correctly.\n",
    "Example of Ordinal Encoding:\n",
    "Consider a categorical variable \"Education Level\" with categories: \"High School,\" \"Bachelor's Degree,\" \"Master's Degree,\" and \"Ph.D.\" After ordinal encoding, the data might look like this:\n",
    "\n",
    "\"High School\" -> 1\n",
    "\"Bachelor's Degree\" -> 2\n",
    "\"Master's Degree\" -> 3\n",
    "\"Ph.D.\" -> 4'''"
   ]
  },
  {
   "cell_type": "code",
   "execution_count": 1,
   "id": "55213c97",
   "metadata": {},
   "outputs": [],
   "source": [
    "#Q2. Explain how Target Guided Ordinal Encoding works and provide an example of when you might use it in\n",
    "#a machine learning project."
   ]
  },
  {
   "cell_type": "code",
   "execution_count": 2,
   "id": "fef3d61e",
   "metadata": {},
   "outputs": [
    {
     "data": {
      "text/plain": [
       "'\\'Target Guided Ordinal Encoding is a technique used to encode categorical variables \\nbased on their relationship with the target variable in a supervised machine learning setting.\\nIt aims to capture the information contained in the target variable while converting categorical \\nvalues into ordinal numerical values. The process involves calculating the mean or median of the \\ntarget variable for each category and then ordering the categories based on these aggregated target \\n\\nvalues.\\n\\nHere\\'s a step-by-step explanation of how Target Guided Ordinal Encoding works:\\n\\nCalculate the mean or median of the target variable for each category in the categorical feature.\\nOrder the categories based on their corresponding mean or median values. This ordering reflects the \\ninfluence of each category on the target variable.\\nReplace the original categorical values with the ordinal values obtained from the ordering.\\nExample of Target Guided Ordinal Encoding:\\nLet\\'s consider a dataset for a classification problem where you are predicting whether a customer\\nwill purchase a product or not based on the \"Income Group\" feature, which has categorical values:\\n    \"Low,\" \"Medium,\" and \"High.\" The target variable is \"Purchase\" (1 if the customer purchased, \\n                                                                    0 if not).\\n\\nIncome Group\\tPurchase\\nLow\\t0\\nMedium\\t1\\nHigh\\t1\\nLow\\t0\\nMedium\\t1\\nHigh\\t1\\nStep 1: Calculate the mean of the \"Purchase\" for each \"Income Group\":\\n\\nMean of \"Purchase\" for \"Low\" Income Group = (0 + 0) / 2 = 0\\nMean of \"Purchase\" for \"Medium\" Income Group = 1\\nMean of \"Purchase\" for \"High\" Income Group = 1\\nStep 2: Order the \"Income Group\" based on their means:\\n\\n\"Low\" (Mean: 0)\\n\"Medium\" (Mean: 1)\\n\"High\" (Mean: 1)\\nStep 3: Replace the original categorical values with ordinal values:\\n\\nIncome Group\\tPurchase\\n1 (Low)\\t0\\n2 (Medium)\\t1\\n3 (High)\\t1\\n1 (Low)\\t0\\n2 (Medium)\\t1\\n3 (High)\\t1\\nThe resulting \"Income Group\" feature is now represented numerically in an ordinal manner, \\ncapturing the trend of the mean \"Purchase\" values for each category.\\n\\nWhen to use Target Guided Ordinal Encoding:\\nTarget Guided Ordinal Encoding is particularly useful when the categorical variable exhibits a \\n\\nclear ordinal relationship with the target variable. It helps the model to learn and leverage \\nthe natural ordering present in the data, potentially leading to improved predictive performance.\\nIt can be beneficial in situations where the categorical feature has a significant impact on the \\ntarget variable, and using a simple ordinal encoding (like Label Encoding) might not fully capture \\nthe relationship. However, it is essential to be cautious with this technique and validate its impact\\non the model\\'s performance, as it may introduce bias if not applied carefully.'"
      ]
     },
     "execution_count": 2,
     "metadata": {},
     "output_type": "execute_result"
    }
   ],
   "source": [
    "''''Target Guided Ordinal Encoding is a technique used to encode categorical variables \n",
    "based on their relationship with the target variable in a supervised machine learning setting.\n",
    "It aims to capture the information contained in the target variable while converting categorical \n",
    "values into ordinal numerical values. The process involves calculating the mean or median of the \n",
    "target variable for each category and then ordering the categories based on these aggregated target \n",
    "\n",
    "values.\n",
    "\n",
    "Here's a step-by-step explanation of how Target Guided Ordinal Encoding works:\n",
    "\n",
    "Calculate the mean or median of the target variable for each category in the categorical feature.\n",
    "Order the categories based on their corresponding mean or median values. This ordering reflects the \n",
    "influence of each category on the target variable.\n",
    "Replace the original categorical values with the ordinal values obtained from the ordering.\n",
    "Example of Target Guided Ordinal Encoding:\n",
    "Let's consider a dataset for a classification problem where you are predicting whether a customer\n",
    "will purchase a product or not based on the \"Income Group\" feature, which has categorical values:\n",
    "    \"Low,\" \"Medium,\" and \"High.\" The target variable is \"Purchase\" (1 if the customer purchased, \n",
    "                                                                    0 if not).\n",
    "\n",
    "Income Group\tPurchase\n",
    "Low\t0\n",
    "Medium\t1\n",
    "High\t1\n",
    "Low\t0\n",
    "Medium\t1\n",
    "High\t1\n",
    "Step 1: Calculate the mean of the \"Purchase\" for each \"Income Group\":\n",
    "\n",
    "Mean of \"Purchase\" for \"Low\" Income Group = (0 + 0) / 2 = 0\n",
    "Mean of \"Purchase\" for \"Medium\" Income Group = 1\n",
    "Mean of \"Purchase\" for \"High\" Income Group = 1\n",
    "Step 2: Order the \"Income Group\" based on their means:\n",
    "\n",
    "\"Low\" (Mean: 0)\n",
    "\"Medium\" (Mean: 1)\n",
    "\"High\" (Mean: 1)\n",
    "Step 3: Replace the original categorical values with ordinal values:\n",
    "\n",
    "Income Group\tPurchase\n",
    "1 (Low)\t0\n",
    "2 (Medium)\t1\n",
    "3 (High)\t1\n",
    "1 (Low)\t0\n",
    "2 (Medium)\t1\n",
    "3 (High)\t1\n",
    "The resulting \"Income Group\" feature is now represented numerically in an ordinal manner, \n",
    "capturing the trend of the mean \"Purchase\" values for each category.\n",
    "\n",
    "When to use Target Guided Ordinal Encoding:\n",
    "Target Guided Ordinal Encoding is particularly useful when the categorical variable exhibits a \n",
    "\n",
    "clear ordinal relationship with the target variable. It helps the model to learn and leverage \n",
    "the natural ordering present in the data, potentially leading to improved predictive performance.\n",
    "It can be beneficial in situations where the categorical feature has a significant impact on the \n",
    "target variable, and using a simple ordinal encoding (like Label Encoding) might not fully capture \n",
    "the relationship. However, it is essential to be cautious with this technique and validate its impact\n",
    "on the model's performance, as it may introduce bias if not applied carefully.'''"
   ]
  },
  {
   "cell_type": "code",
   "execution_count": 3,
   "id": "25ac5f56",
   "metadata": {},
   "outputs": [],
   "source": [
    "#Q3. Define covariance and explain why it is important in statistical analysis. \n",
    "#How is covariance calculated?"
   ]
  },
  {
   "cell_type": "code",
   "execution_count": 10,
   "id": "2c8e5e9a",
   "metadata": {},
   "outputs": [
    {
     "data": {
      "text/plain": [
       "\"'Covariance is a statistical concept that measures the degree to which two variables change together.\\nIn other words, it quantifies the relationship or association between two random variables. \\nIt indicates whether an increase in one variable is associated with an increase, decrease, or\\nno change in the other variable.\\nformula covarience\\ncov(X, Y) = Σ [(X_i - mean(X)) * (Y_i - mean(Y))] / (n - 1)\\n\\n\""
      ]
     },
     "execution_count": 10,
     "metadata": {},
     "output_type": "execute_result"
    }
   ],
   "source": [
    "''''Covariance is a statistical concept that measures the degree to which two variables change together.\n",
    "In other words, it quantifies the relationship or association between two random variables. \n",
    "It indicates whether an increase in one variable is associated with an increase, decrease, or\n",
    "no change in the other variable.\n",
    "formula covarience\n",
    "cov(X, Y) = Σ [(X_i - mean(X)) * (Y_i - mean(Y))] / (n - 1)\n",
    "\n",
    "'''"
   ]
  },
  {
   "cell_type": "code",
   "execution_count": null,
   "id": "0ce344f8",
   "metadata": {},
   "outputs": [],
   "source": [
    "#Q4. For a dataset with the following categorical variables: Color (red, green, blue), Size (small, medium,\n",
    "#large), and Material (wood, metal, plastic), perform label encoding using Python's scikit-learn library.\n",
    "#Show your code and explain the output."
   ]
  },
  {
   "cell_type": "code",
   "execution_count": 11,
   "id": "e8ff0e81",
   "metadata": {},
   "outputs": [
    {
     "name": "stdout",
     "output_type": "stream",
     "text": [
      "   Color  Size  Material\n",
      "0      2     2         2\n",
      "1      1     1         0\n",
      "2      0     0         1\n",
      "3      2     1         0\n",
      "4      0     2         1\n",
      "5      1     0         2\n"
     ]
    }
   ],
   "source": [
    "from sklearn.preprocessing import LabelEncoder\n",
    "\n",
    "# Sample dataset with categorical variables\n",
    "data = {\n",
    "    'Color': ['red', 'green', 'blue', 'red', 'blue', 'green'],\n",
    "    'Size': ['small', 'medium', 'large', 'medium', 'small', 'large'],\n",
    "    'Material': ['wood', 'metal', 'plastic', 'metal', 'plastic', 'wood']\n",
    "}\n",
    "\n",
    "# Convert the dataset into a DataFrame\n",
    "import pandas as pd\n",
    "df = pd.DataFrame(data)\n",
    "\n",
    "# Initialize the LabelEncoder\n",
    "label_encoder = LabelEncoder()\n",
    "\n",
    "# Loop through each categorical column and apply label encoding\n",
    "for col in df.columns:\n",
    "    df[col] = label_encoder.fit_transform(df[col])\n",
    "\n",
    "# Print the encoded DataFrame\n",
    "print(df)\n"
   ]
  },
  {
   "cell_type": "code",
   "execution_count": null,
   "id": "114212f4",
   "metadata": {},
   "outputs": [],
   "source": [
    "#Q5. Calculate the covariance matrix for the following variables in a dataset: Age, Income, and Education\n",
    "#level. Interpret the results."
   ]
  },
  {
   "cell_type": "code",
   "execution_count": 12,
   "id": "563961d1",
   "metadata": {},
   "outputs": [
    {
     "name": "stdout",
     "output_type": "stream",
     "text": [
      "[[6.25e+01 1.25e+05 1.75e+01]\n",
      " [1.25e+05 2.50e+08 3.50e+04]\n",
      " [1.75e+01 3.50e+04 1.00e+01]]\n"
     ]
    }
   ],
   "source": [
    "import numpy as np\n",
    "\n",
    "# Sample dataset with numerical values for Age, Income, and Education Level\n",
    "data = {\n",
    "    'Age': [25, 30, 35, 40, 45],\n",
    "    'Income': [50000, 60000, 70000, 80000, 90000],\n",
    "    'Education_Level': [12, 16, 18, 14, 20]\n",
    "}\n",
    "\n",
    "# Convert the dataset into a DataFrame\n",
    "import pandas as pd\n",
    "df = pd.DataFrame(data)\n",
    "\n",
    "# Calculate the covariance matrix using NumPy\n",
    "cov_matrix = np.cov(df, rowvar=False)\n",
    "\n",
    "# Print the covariance matrix\n",
    "print(cov_matrix)\n"
   ]
  },
  {
   "cell_type": "code",
   "execution_count": 13,
   "id": "37d061f4",
   "metadata": {},
   "outputs": [
    {
     "data": {
      "text/plain": [
       "'\\'Q6. You are working on a machine learning project with a dataset containing several categorical\\nvariables, including \"Gender\" (Male/Female), \"Education Level\" (High School/Bachelor\\'s/Master\\'s/PhD),\\nand \"Employment Status\" (Unemployed/Part-Time/Full-Time). Which encoding method would you use for\\neach variable, and why?'"
      ]
     },
     "execution_count": 13,
     "metadata": {},
     "output_type": "execute_result"
    }
   ],
   "source": [
    "''''Q6. You are working on a machine learning project with a dataset containing several categorical\n",
    "variables, including \"Gender\" (Male/Female), \"Education Level\" (High School/Bachelor's/Master's/PhD),\n",
    "and \"Employment Status\" (Unemployed/Part-Time/Full-Time). Which encoding method would you use for\n",
    "each variable, and why?'''"
   ]
  },
  {
   "cell_type": "code",
   "execution_count": 14,
   "id": "91a69627",
   "metadata": {},
   "outputs": [
    {
     "data": {
      "text/plain": [
       "'\\'For each categorical variable in the dataset, the choice of encoding method depends on the nature of the data and the relationship between the categories. Here\\'s how I would choose the encoding method for each variable:\\n\\nGender (Male/Female):\\nSince there are only two categories in the \"Gender\" variable (Male and Female), it is a binary categorical variable. For binary variables, the most appropriate encoding method is Label Encoding. Label Encoding will convert Male to 0 and Female to 1, representing the binary nature of the variable effectively.\\n\\nEducation Level (High School/Bachelor\\'s/Master\\'s/PhD):\\nThe \"Education Level\" variable is ordinal in nature because it has a clear order or hierarchy among the categories (High School < Bachelor\\'s < Master\\'s < PhD). To preserve this ordinal relationship, Ordinal Encoding is the most suitable encoding method. Ordinal Encoding will assign integer values to each category based on their order, such as High School as 1, Bachelor\\'s as 2, Master\\'s as 3, and PhD as 4.\\n\\nEmployment Status (Unemployed/Part-Time/Full-Time):\\nThe \"Employment Status\" variable does not have a natural ordering among its categories, and they are not intrinsically numeric. Therefore, this is a nominal categorical variable. For nominal variables, the recommended encoding method is One-Hot Encoding. One-Hot Encoding will create binary columns for each category (Unemployed, Part-Time, Full-Time) with values of 0 or 1, representing the presence or absence of each category.\\n\\nSummary of Encoding Methods:\\n\\nGender (Binary): Label Encoding (Male -> 0, Female -> 1)\\nEducation Level (Ordinal): Ordinal Encoding (High School -> 1, Bachelor\\'s -> 2, Master\\'s -> 3, PhD -> 4)\\nEmployment Status (Nominal): One-Hot Encoding (Three binary'"
      ]
     },
     "execution_count": 14,
     "metadata": {},
     "output_type": "execute_result"
    }
   ],
   "source": [
    "''''For each categorical variable in the dataset, the choice of encoding method depends on the nature of the data and the relationship between the categories. Here's how I would choose the encoding method for each variable:\n",
    "\n",
    "Gender (Male/Female):\n",
    "Since there are only two categories in the \"Gender\" variable (Male and Female), it is a binary categorical variable. For binary variables, the most appropriate encoding method is Label Encoding. Label Encoding will convert Male to 0 and Female to 1, representing the binary nature of the variable effectively.\n",
    "\n",
    "Education Level (High School/Bachelor's/Master's/PhD):\n",
    "The \"Education Level\" variable is ordinal in nature because it has a clear order or hierarchy among the categories (High School < Bachelor's < Master's < PhD). To preserve this ordinal relationship, Ordinal Encoding is the most suitable encoding method. Ordinal Encoding will assign integer values to each category based on their order, such as High School as 1, Bachelor's as 2, Master's as 3, and PhD as 4.\n",
    "\n",
    "Employment Status (Unemployed/Part-Time/Full-Time):\n",
    "The \"Employment Status\" variable does not have a natural ordering among its categories, and they are not intrinsically numeric. Therefore, this is a nominal categorical variable. For nominal variables, the recommended encoding method is One-Hot Encoding. One-Hot Encoding will create binary columns for each category (Unemployed, Part-Time, Full-Time) with values of 0 or 1, representing the presence or absence of each category.\n",
    "\n",
    "Summary of Encoding Methods:\n",
    "\n",
    "Gender (Binary): Label Encoding (Male -> 0, Female -> 1)\n",
    "Education Level (Ordinal): Ordinal Encoding (High School -> 1, Bachelor's -> 2, Master's -> 3, PhD -> 4)\n",
    "Employment Status (Nominal): One-Hot Encoding (Three binary'''"
   ]
  },
  {
   "cell_type": "code",
   "execution_count": 15,
   "id": "1e483e81",
   "metadata": {},
   "outputs": [],
   "source": [
    "#Q7. You are analyzing a dataset with two continuous variables, \"Temperature\" and \"Humidity\", and two\n",
    "#categorical variables, \"Weather Condition\" (Sunny/Cloudy/Rainy) and \"Wind Direction\" (North/South/\n",
    "#East/West). Calculate the covariance between each pair of variables and interpret the results."
   ]
  },
  {
   "cell_type": "code",
   "execution_count": 16,
   "id": "8f926f7c",
   "metadata": {},
   "outputs": [
    {
     "ename": "AttributeError",
     "evalue": "'float' object has no attribute 'shape'",
     "output_type": "error",
     "traceback": [
      "\u001b[1;31m---------------------------------------------------------------------------\u001b[0m",
      "\u001b[1;31mAttributeError\u001b[0m                            Traceback (most recent call last)",
      "Cell \u001b[1;32mIn[16], line 19\u001b[0m\n\u001b[0;32m     16\u001b[0m df_encoded \u001b[38;5;241m=\u001b[39m pd\u001b[38;5;241m.\u001b[39mget_dummies(df, columns\u001b[38;5;241m=\u001b[39m[\u001b[38;5;124m'\u001b[39m\u001b[38;5;124mWeather_Condition\u001b[39m\u001b[38;5;124m'\u001b[39m, \u001b[38;5;124m'\u001b[39m\u001b[38;5;124mWind_Direction\u001b[39m\u001b[38;5;124m'\u001b[39m])\n\u001b[0;32m     18\u001b[0m \u001b[38;5;66;03m# Calculate the covariance matrix\u001b[39;00m\n\u001b[1;32m---> 19\u001b[0m cov_matrix \u001b[38;5;241m=\u001b[39m \u001b[43mnp\u001b[49m\u001b[38;5;241;43m.\u001b[39;49m\u001b[43mcov\u001b[49m\u001b[43m(\u001b[49m\u001b[43mdf_encoded\u001b[49m\u001b[43m,\u001b[49m\u001b[43m \u001b[49m\u001b[43mrowvar\u001b[49m\u001b[38;5;241;43m=\u001b[39;49m\u001b[38;5;28;43;01mFalse\u001b[39;49;00m\u001b[43m)\u001b[49m\n\u001b[0;32m     21\u001b[0m \u001b[38;5;66;03m# Print the covariance matrix\u001b[39;00m\n\u001b[0;32m     22\u001b[0m \u001b[38;5;28mprint\u001b[39m(cov_matrix)\n",
      "File \u001b[1;32m<__array_function__ internals>:200\u001b[0m, in \u001b[0;36mcov\u001b[1;34m(*args, **kwargs)\u001b[0m\n",
      "File \u001b[1;32m~\\AppData\\Roaming\\Python\\Python311\\site-packages\\numpy\\lib\\function_base.py:2681\u001b[0m, in \u001b[0;36mcov\u001b[1;34m(m, y, rowvar, bias, ddof, fweights, aweights, dtype)\u001b[0m\n\u001b[0;32m   2678\u001b[0m     \u001b[38;5;28;01melse\u001b[39;00m:\n\u001b[0;32m   2679\u001b[0m         w \u001b[38;5;241m*\u001b[39m\u001b[38;5;241m=\u001b[39m aweights\n\u001b[1;32m-> 2681\u001b[0m avg, w_sum \u001b[38;5;241m=\u001b[39m \u001b[43maverage\u001b[49m\u001b[43m(\u001b[49m\u001b[43mX\u001b[49m\u001b[43m,\u001b[49m\u001b[43m \u001b[49m\u001b[43maxis\u001b[49m\u001b[38;5;241;43m=\u001b[39;49m\u001b[38;5;241;43m1\u001b[39;49m\u001b[43m,\u001b[49m\u001b[43m \u001b[49m\u001b[43mweights\u001b[49m\u001b[38;5;241;43m=\u001b[39;49m\u001b[43mw\u001b[49m\u001b[43m,\u001b[49m\u001b[43m \u001b[49m\u001b[43mreturned\u001b[49m\u001b[38;5;241;43m=\u001b[39;49m\u001b[38;5;28;43;01mTrue\u001b[39;49;00m\u001b[43m)\u001b[49m\n\u001b[0;32m   2682\u001b[0m w_sum \u001b[38;5;241m=\u001b[39m w_sum[\u001b[38;5;241m0\u001b[39m]\n\u001b[0;32m   2684\u001b[0m \u001b[38;5;66;03m# Determine the normalization\u001b[39;00m\n",
      "File \u001b[1;32m<__array_function__ internals>:200\u001b[0m, in \u001b[0;36maverage\u001b[1;34m(*args, **kwargs)\u001b[0m\n",
      "File \u001b[1;32m~\\AppData\\Roaming\\Python\\Python311\\site-packages\\numpy\\lib\\function_base.py:555\u001b[0m, in \u001b[0;36maverage\u001b[1;34m(a, axis, weights, returned, keepdims)\u001b[0m\n\u001b[0;32m    551\u001b[0m     avg \u001b[38;5;241m=\u001b[39m avg_as_array \u001b[38;5;241m=\u001b[39m np\u001b[38;5;241m.\u001b[39mmultiply(a, wgt,\n\u001b[0;32m    552\u001b[0m                       dtype\u001b[38;5;241m=\u001b[39mresult_dtype)\u001b[38;5;241m.\u001b[39msum(axis, \u001b[38;5;241m*\u001b[39m\u001b[38;5;241m*\u001b[39mkeepdims_kw) \u001b[38;5;241m/\u001b[39m scl\n\u001b[0;32m    554\u001b[0m \u001b[38;5;28;01mif\u001b[39;00m returned:\n\u001b[1;32m--> 555\u001b[0m     \u001b[38;5;28;01mif\u001b[39;00m \u001b[43mscl\u001b[49m\u001b[38;5;241;43m.\u001b[39;49m\u001b[43mshape\u001b[49m \u001b[38;5;241m!=\u001b[39m avg_as_array\u001b[38;5;241m.\u001b[39mshape:\n\u001b[0;32m    556\u001b[0m         scl \u001b[38;5;241m=\u001b[39m np\u001b[38;5;241m.\u001b[39mbroadcast_to(scl, avg_as_array\u001b[38;5;241m.\u001b[39mshape)\u001b[38;5;241m.\u001b[39mcopy()\n\u001b[0;32m    557\u001b[0m     \u001b[38;5;28;01mreturn\u001b[39;00m avg, scl\n",
      "\u001b[1;31mAttributeError\u001b[0m: 'float' object has no attribute 'shape'"
     ]
    }
   ],
   "source": [
    "import pandas as pd\n",
    "import numpy as np\n",
    "\n",
    "# Sample dataset with numerical values for Temperature and Humidity\n",
    "data = {\n",
    "    'Temperature': [25, 30, 28, 22, 20],\n",
    "    'Humidity': [60, 55, 58, 70, 75],\n",
    "    'Weather_Condition': ['Sunny', 'Cloudy', 'Cloudy', 'Rainy', 'Sunny'],\n",
    "    'Wind_Direction': ['North', 'South', 'East', 'West', 'North']\n",
    "}\n",
    "\n",
    "# Convert the dataset into a DataFrame\n",
    "df = pd.DataFrame(data)\n",
    "\n",
    "# Perform one-hot encoding for categorical variables\n",
    "df_encoded = pd.get_dummies(df, columns=['Weather_Condition', 'Wind_Direction'])\n",
    "\n",
    "# Calculate the covariance matrix\n",
    "cov_matrix = np.cov(df_encoded, rowvar=False)\n",
    "\n",
    "# Print the covariance matrix\n",
    "print(cov_matrix)\n"
   ]
  },
  {
   "cell_type": "code",
   "execution_count": null,
   "id": "b00d7db9",
   "metadata": {},
   "outputs": [],
   "source": []
  }
 ],
 "metadata": {
  "kernelspec": {
   "display_name": "Python 3 (ipykernel)",
   "language": "python",
   "name": "python3"
  },
  "language_info": {
   "codemirror_mode": {
    "name": "ipython",
    "version": 3
   },
   "file_extension": ".py",
   "mimetype": "text/x-python",
   "name": "python",
   "nbconvert_exporter": "python",
   "pygments_lexer": "ipython3",
   "version": "3.11.2"
  }
 },
 "nbformat": 4,
 "nbformat_minor": 5
}
